{
 "metadata": {
  "language_info": {
   "codemirror_mode": {
    "name": "ipython",
    "version": 3
   },
   "file_extension": ".py",
   "mimetype": "text/x-python",
   "name": "python",
   "nbconvert_exporter": "python",
   "pygments_lexer": "ipython3",
   "version": 3
  },
  "orig_nbformat": 2
 },
 "nbformat": 4,
 "nbformat_minor": 2,
 "cells": [
  {
   "source": [
    "# Projet d'optimisation\n",
    "\n",
    "**Josué Agbekodo et Viviane Lesbre**"
   ],
   "cell_type": "markdown",
   "metadata": {}
  },
  {
   "source": [
    "## Question 1 :\n",
    "Cette situation correspond à la gestion d'un protefeuille d'action en bourse. Il y a n actions à acheter et l'investisseur place à chaque fois $x_i$ sur la ième action.\n",
    "\n",
    "Equation (1): nous signale que les $x_i$ sont des pourcentages "
   ],
   "cell_type": "markdown",
   "metadata": {}
  },
  {
   "source": [
    "## Question 2 :\n",
    "\n",
    "On cherche à minimiser le risque soit l'expression $x^T \\Sigma x$ sachant que $\\bar p^T x =r$. Ainsi on introduit \n",
    "$$\n",
    "\\begin{cases}\n",
    "c_{eq}(x) = \\bar p^T x -r \\\\\n",
    "\\underset{c_{eq}=0}{min} f(x) \\\\\n",
    "f(x) = x^T \\Sigma x\n",
    "\\end{cases}\n",
    "$$\n",
    "\n",
    "Il y a donc $n_i = n$ variables de décisions."
   ],
   "cell_type": "markdown",
   "metadata": {}
  },
  {
   "source": [
    "## Question 3 :\n",
    "\n"
   ],
   "cell_type": "markdown",
   "metadata": {}
  },
  {
   "cell_type": "code",
   "execution_count": null,
   "metadata": {},
   "outputs": [],
   "source": []
  }
 ]
}