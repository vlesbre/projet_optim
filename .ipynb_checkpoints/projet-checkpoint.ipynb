{
 "cells": [
  {
   "cell_type": "markdown",
   "metadata": {},
   "source": [
    "# Projet d'optimisation\n",
    "\n",
    "**Josué Agbekodo et Viviane Lesbre**"
   ]
  },
  {
   "cell_type": "markdown",
   "metadata": {},
   "source": [
    "## Question 1 :\n",
    "Cette situation correspond à la gestion d'un protefeuille d'action en bourse. Il y a n actions à acheter et l'investisseur place à chaque fois $x_i$ sur la ième action.\n",
    "\n",
    "L'équation (1) nous signale que  $ \\sum_{i=1}^{n} x_i =1 $, donc notre budget total est de 1.\n",
    "L'équation (2) indique qu'en se fixant au préalable un risque qu'on veut bien prendre, on est peut investir plus ou moins selon la fluctuation des prix. Plus celle-ci est grande, plus un même investissement impliquera un gros risque pour nous, donc moins on pourra investir."
   ]
  },
  {
   "cell_type": "markdown",
   "metadata": {},
   "source": [
    "## Question 2 :\n",
    "\n",
    "On cherche à minimiser le risque soit l'expression $x^T \\Sigma x$ sachant que $ 1^Tx=1$ et $\\bar p^Tx=r$. Ainsi on introduit \n",
    "$$\n",
    "\\begin{cases}\n",
    "\\forall x \\in \\mathbb{R^n}, c_{eq}(x) = (1^T x -1,\\bar p^Tx-r) \\\\\n",
    "\\forall x \\in \\mathbb{R^n}, f(x) = x^T \\Sigma x \\\\\n",
    "\\end{cases}\n",
    "$$\n",
    "\n",
    "Et le problème revient bien à $ \\underset{c_{eq}=0}{min} f(x) $\n",
    "\n",
    "On a ici pris $z=x$, il y a donc $n_i = n$ variables de décisions: ce sont les $x_i$.\n",
    "\n",
    "On a donc $\\forall x \\in \\mathbb{R^n}, f(x)= x^T\\Sigma x$"
   ]
  },
  {
   "cell_type": "markdown",
   "metadata": {},
   "source": [
    "## Question 3 :\n",
    "\n"
   ]
  },
  {
   "cell_type": "markdown",
   "metadata": {},
   "source": [
    "Cette contrainte signifie que les $(-x_i)_{1 \\leq i \\leq n}$ ne doivent pas être trop élevés, donc que les composantes de x ne doivent pas trop s'étendre dans les négatifs, et donc qu'il ne faut pas trop faire d'investissements \"négatifs\", c'est-à-dire à qu'il ne faut pas trop vendre des actifs.\n",
    "\n",
    "Cette contrainte restreint donc notre ensemble d'étude à E= {$x \\in \\mathbb{R^n}, c_{eq}(x) \\leq 0$}, ce qui change totalement le condition d'optimalité de f (déjà, contrairement à $\\mathbb{R^n}$ qui est ouvert, E est un fermé, et le comportement d'un algorithme d'optimisation va donc être différent aux bords car on ne pourra pas forcément faire n'importe quel déplacement infinitésimal autour d'un point à la fontière tout en restant dans E). "
   ]
  },
  {
   "cell_type": "markdown",
   "metadata": {},
   "source": [
    "### Question 4:"
   ]
  },
  {
   "cell_type": "markdown",
   "metadata": {},
   "source": [
    "On voit que tous les $s \\in \\mathbb{R^n}$ qui vérifient $s \\geq -x$ et $s \\geq 0 $ vérifient alors $s \\geq max(-x,0)$ en regardant composante par composante.\n",
    "\n",
    "En notant E={$s \\in \\mathbb{R^n}, s \\geq -x, s \\geq 0$}, on peut dire que $max(-x,0)$ est le minimum de E. \n",
    "\n",
    "La dernière condition ($1^Ts \\leq s_M$) est une inégalité qui empêche $s$ d'être trop élevée.\n",
    "Donc si il existe un $s \\in E$ qui respecte cette dernière condition, c'est que $max(-x,0)$ la respecte aussi (en tant que minimum de E). A l'inverse, si $max(-x,0)$ respecte cette condition, alors il existe $s \\in E$ qui respecte cette condition (par exemple, $s=max(-x,0)$). \n",
    "\n",
    "On a donc bien équivalence entre les conditions (5) et le fait de trouver un $ s \\in \\mathbb{R^n}$ qui respecte les 3 conditions  $ s \\geq -x , s \\geq 0$ et $1^Ts \\leq s_M$.\n",
    "\n",
    "Le problème de la question 2 est maintenant:  $\\underset{\\exists s \\in \\mathbb{R^n}, s \\,\\geq -x ,\\, s \\,\\geq\\, 0,\\, 1^Ts \\leq s_M }{\\underset{1^Tx-1=0}{minf(x)}}$ "
   ]
  },
  {
   "cell_type": "markdown",
   "metadata": {},
   "source": [
    "### Question 5"
   ]
  },
  {
   "cell_type": "markdown",
   "metadata": {},
   "source": [
    "C'est un problème d'optimisation sous contraintes d'égalités linéaires. \n",
    "On peut donc définir le Lagrangien $L: (x,\\lambda)\\in \\mathbb{R^n}\\times \\mathbb{R} \\rightarrow f(x) +\\lambda^T(1^Tx-1)$ ou bien appliquer l'algorithme d'élimination des variables pour contraintes linéaires d'optimisation sans contrainte. On se ramène dans les deux cas à un problème d'optimisation sans contraintes, qu'on peut résoudre avec les algorithmes correspondant (comme par exemple l'algorithme BFGS). "
   ]
  }
 ],
 "metadata": {
  "kernelspec": {
   "display_name": "Python 3",
   "language": "python",
   "name": "python3"
  },
  "language_info": {
   "codemirror_mode": {
    "name": "ipython",
    "version": 3
   },
   "file_extension": ".py",
   "mimetype": "text/x-python",
   "name": "python",
   "nbconvert_exporter": "python",
   "pygments_lexer": "ipython3",
   "version": "3.8.3"
  }
 },
 "nbformat": 4,
 "nbformat_minor": 2
}
