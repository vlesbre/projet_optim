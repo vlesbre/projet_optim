{
 "cells": [
  {
   "cell_type": "markdown",
   "metadata": {},
   "source": [
    "# Projet d'optimisation\n",
    "\n",
    "**Josué Agbekodo et Viviane Lesbre**"
   ]
  },
  {
   "cell_type": "code",
   "execution_count": 255,
   "metadata": {},
   "outputs": [],
   "source": [
    "from casadi import *\n",
    "import time\n",
    "import matplotlib.pyplot as plt"
   ]
  },
  {
   "cell_type": "markdown",
   "metadata": {},
   "source": [
    "## Question 1 :\n",
    "Cette situation correspond à la gestion d'un protefeuille d'action en bourse. Il y a n actions à acheter et l'investisseur place à chaque fois $x_i$ sur la ième action.\n",
    "\n",
    "L'équation (1) nous signale que  $ \\sum_{i=1}^{n} x_i =1 $, donc notre budget total est de 1.\n",
    "L'équation (2) indique qu'en se fixant au préalable un risque qu'on veut bien prendre, on est peut investir plus ou moins selon la fluctuation des prix. Plus celle-ci est grande, plus un même investissement impliquera un gros risque pour nous, donc moins on pourra investir. "
   ]
  },
  {
   "cell_type": "markdown",
   "metadata": {},
   "source": [
    "## Question 2 :\n",
    "\n",
    "On cherche à minimiser le risque soit l'expression $x^T \\Sigma x$ sachant que $ 1^Tx=1$ et $\\bar p^Tx=r$. Ainsi on introduit \n",
    "$$\n",
    "\\begin{cases}\n",
    "\\forall x \\in \\mathbb{R^n}, c_{eq}(x) = (1^T x -1,\\bar p^Tx-r) \\\\\n",
    "\\forall x \\in \\mathbb{R^n}, f(x) = x^T \\Sigma x \\\\\n",
    "\\end{cases}\n",
    "$$\n",
    "\n",
    "Et le problème revient bien à $ \\underset{c_{eq}=0}{min} f(x) $\n",
    "\n",
    "On a ici pris $z=x$, il y a donc $n_i = n$ variables de décisions: ce sont les $x_i$.\n",
    "\n",
    "On a donc $\\forall x \\in \\mathbb{R^n}, f(x)= x^T\\Sigma x$"
   ]
  },
  {
   "cell_type": "markdown",
   "metadata": {},
   "source": [
    "## Question 3:\n",
    "\n",
    "Cette contrainte signifie que les $(-x_i)_{1 \\leq i \\leq n}$ ne doivent pas être trop élevés, donc que les composantes de x ne doivent pas trop s'étendre dans les négatifs, et donc qu'il ne faut pas trop faire d'investissements \"négatifs\", c'est-à-dire à qu'il ne faut pas trop vendre des actifs.\n",
    "\n",
    "En posant $\\forall x \\in \\mathbb{R^n}, c_M(x)=1^Tmax(-x,0)-s_M$, cette contrainte restreint donc notre ensemble d'étude à E= {$x \\in \\mathbb{R^n}, c_{eq}(x) = 0, c_M(x)\\leq 0$}, nous avons donc deux contraintes d'égalité et une d'inégalité, ce qui pose un problème pour les algorithmes que nous connaissons, qui ne considrèent que des contraintes d'égalité ou alors que des contraintes d'inégalité."
   ]
  },
  {
   "cell_type": "markdown",
   "metadata": {},
   "source": [
    "## Question 4:\n",
    "On voit que tous les $s \\in \\mathbb{R^n}$ qui vérifient $s \\geq -x$ et $s \\geq 0 $ vérifient alors $s \\geq max(-x,0)$ en regardant composante par composante.\n",
    "\n",
    "En notant F={$s \\in \\mathbb{R^n}, s \\geq -x, s \\geq 0$}, on peut dire que $max(-x,0)$ est le minimum de $F$. \n",
    "\n",
    "La dernière condition ($1^Ts \\leq s_M$) est une inégalité qui empêche $s$ d'être trop élevée.\n",
    "Donc si il existe un $s \\in F$ qui respecte cette dernière condition, c'est que $max(-x,0)$ la respecte aussi (en tant que minimum de F). A l'inverse, si $max(-x,0)$ respecte cette condition, alors il existe $s \\in F$ qui respecte cette condition (par exemple, $s=max(-x,0)$). \n",
    "\n",
    "On a donc bien équivalence entre les conditions (5) et le fait de trouver un $ s \\in \\mathbb{R^n}$ qui respecte les 3 conditions  $ s \\geq -x , s \\geq 0$ et $1^Ts \\leq s_M$.\n",
    "\n",
    "Le problème de la question 2 est maintenant:  $\\underset{\\exists s \\in \\mathbb{R^n}, s \\,\\geq -x ,\\, s \\,\\geq\\, 0,\\, 1^Ts \\leq s_M }{\\underset{\\bar p^Tx-r=0}{\\underset{1^Tx-1=0}{minf(x)}}}$ "
   ]
  },
  {
   "cell_type": "markdown",
   "metadata": {},
   "source": [
    "### Question 5"
   ]
  },
  {
   "cell_type": "markdown",
   "metadata": {},
   "source": [
    "C'est un problème d'optimisation sous contraintes d'égalités linéaires. \n",
    "On peut donc définir le Lagrangien $L: (x,\\lambda)\\in \\mathbb{R^n}\\times \\mathbb{R} \\rightarrow f(x) +\\lambda^T(1^Tx-1)$ ou bien appliquer l'algorithme d'élimination des variables pour contraintes linéaires d'optimisation sans contrainte. On se ramène dans les deux cas à un problème d'optimisation sans contraintes, qu'on peut résoudre avec les algorithmes correspondant (comme par exemple l'algorithme BFGS). "
   ]
  },
  {
   "cell_type": "markdown",
   "metadata": {},
   "source": [
    "### Question 6"
   ]
  },
  {
   "cell_type": "markdown",
   "metadata": {},
   "source": [
    "Déjà:\n",
    "\n",
    "$x=\\begin{pmatrix} x_1\\\\  x_2\\\\  x_3 \\end{pmatrix}$\n",
    "\n",
    "$x^t\\Sigma x=(x_1, x_2, x_3) \\begin{pmatrix} \\sigma_1^2 &\\rho\\sigma_1\\sigma_2 & 0\\\\\\rho\\sigma_1\\sigma_2&\\sigma_2^2&0\\\\0&0&\\sigma_3^2 \\end{pmatrix}\n",
    " \\begin{pmatrix} x_1\\\\ x_2\\\\ x_3\\\\ \\end{pmatrix} \\newline\\newline$\n",
    " $x^t\\Sigma x= (\\sigma_1x_1)^2+(\\sigma_2x_2)^2+(\\sigma_3x_3)^2+2\\rho\\sigma_1\\sigma_2x_1x_2\n",
    " $"
   ]
  },
  {
   "cell_type": "code",
   "execution_count": 256,
   "metadata": {},
   "outputs": [],
   "source": [
    "def minimize_f(p1,p2,p3,sigma1,sigma2,sigma3,rho,r):\n",
    "\n",
    "\n",
    "    def f(x):     #fonction à minimiser\n",
    "        return (sigma1*x[0])**2 + (sigma2*x[1])**2 + (sigma3*x[2])**2 + 2*rho*sigma1*sigma2*x[1]*x[0]\n",
    "\n",
    "    def g1(x):\n",
    "        return x[0]+x[1]+x[2] - 1    #première contrainte d'égalité\n",
    "\n",
    "    def g2(x):\n",
    "        return p1*x[0] + p2*x[1] + p3*x[2] - r    #deuxième contrainte d'égalité\n",
    "\n",
    "\n",
    "    opti = casadi.Opti()\n",
    "    x = opti.variable(3)\n",
    "\n",
    "    f=f(x)\n",
    "    opti.minimize(f)\n",
    "    opti.subject_to(g1(x) == 0)\n",
    "    opti.subject_to(g2(x) == 0)\n",
    "    x0 = np.array([0.,0.,0.])\n",
    "    opti.set_initial(x,x0)\n",
    "    p_opts = dict(print_time=False, verbose=False)\n",
    "    s_opts = dict(print_level=0)\n",
    "    opti.solver('ipopt',p_opts,s_opts)\n",
    "    sol = opti.solve()\n",
    "    print(sol.value(x))\n"
   ]
  },
  {
   "cell_type": "code",
   "execution_count": 257,
   "metadata": {},
   "outputs": [
    {
     "name": "stdout",
     "output_type": "stream",
     "text": [
      "[0.63284823 0.27858628 0.08856549]\n"
     ]
    }
   ],
   "source": [
    "minimize_f(0.05,0.15,0.3,0.1,0.3,0.8,0.1,0.1)"
   ]
  },
  {
   "cell_type": "markdown",
   "metadata": {},
   "source": [
    "On obtient $x=[0.633,\\, 0.279,\\, 0.088]$ "
   ]
  },
  {
   "cell_type": "markdown",
   "metadata": {},
   "source": [
    "### Question 7"
   ]
  },
  {
   "cell_type": "code",
   "execution_count": 258,
   "metadata": {},
   "outputs": [
    {
     "name": "stdout",
     "output_type": "stream",
     "text": [
      "[0.65168539 0.24719101 0.1011236 ]\n",
      "[0.60934579 0.31775701 0.0728972 ]\n"
     ]
    }
   ],
   "source": [
    "minimize_f(0.05,0.15,0.3,0.1,0.3,0.8,0.5,0.1)\n",
    "minimize_f(0.05,0.15,0.3,0.1,0.3,0.8,-0.5,0.1)"
   ]
  },
  {
   "cell_type": "markdown",
   "metadata": {},
   "source": [
    "Pour $\\rho=-0.5:   x=[0.609,\\, 0.318,\\, 0.073]$\n",
    "\n",
    "Pour $\\rho= 0.5: \\,\\,\\,x=[0.652,\\, 0.247,\\, 0.101]$"
   ]
  },
  {
   "cell_type": "code",
   "execution_count": 259,
   "metadata": {},
   "outputs": [
    {
     "data": {
      "image/png": "[encoded data removed]",
      "text/plain": [
       "<Figure size 432x288 with 1 Axes>"
      ]
     },
     "metadata": {
      "needs_background": "light"
     },
     "output_type": "display_data"
    }
   ],
   "source": [
    "def f(x, rho, p1 = 0.05, p2 = 0.15, p3 = 0.3, sigma1 = 0.1, sigma2 = 0.3, sigma3 = 0.8, r = 0.1, ):\n",
    "    return (sigma1*x[0])**2 + (sigma2*x[1])**2 + (sigma3*x[2])**2 + 2*rho*sigma1*sigma2*x[1]*x[0]\n",
    "def h(x):\n",
    "    return 0.05*x[0]+0.15*x[1]+0.3*x[2]\n",
    "\n",
    "rhos=[-0.5,0.1,0.5]\n",
    "colors=[\"b\",\"g\",\"r\"]\n",
    "\n",
    "x1=np.arange(0,1,0.01) #pour x1,x2 dans [0,1]^2\n",
    "x=[[x1[i],1-x1[i],0] for i in range(len(x1))] #on a bien x1+x2+x3=1\n",
    "y1=np.arange(-2,0,0.01) #pour x1 dans [-2,0]^2\n",
    "y=[[y1[i],1-y1[i],0] for i in range(len(y1))]\n",
    "z1=np.arange(1,3,0.01)  #pour x2 dans [-2,0]^2\n",
    "z=[[z1[i],1-z1[i],0] for i in range(len(z1))]\n",
    "\n",
    "for i in range(3):\n",
    "    rho=rhos[i]\n",
    "    color=colors[i]\n",
    "    abs_x=[f(x[j],rho) for j in range(len(x))]\n",
    "    ord_x=[h(x[j]) for j in range(len(x))]\n",
    "    abs_y=[f(y[j],rho) for j in range(len(y))]\n",
    "    ord_y=[h(y[j]) for j in range(len(y))]\n",
    "    abs_z=[f(z[j],rho) for j in range(len(z))]\n",
    "    ord_z=[h(z[j]) for j in range(len(z))]\n",
    "    plt.plot(np.sqrt(abs_y), ord_y, color,linewidth=0.3, label=f'x1 in [-2,0]')\n",
    "    plt.plot(np.sqrt(abs_x), ord_x,color, linewidth=1 ,label='x1 in [0,1]')\n",
    "    plt.plot(np.sqrt(abs_z), ord_z,color, linewidth=4,label=f'x1 in [1,3]')  \n",
    "    if i==0:\n",
    "        plt.legend()\n",
    "plt.title(\"blue:rho=-0.5, green: rho=0.1, red: rho=0.5\")    \n",
    "plt.xlabel(\"Risque\")\n",
    "plt.ylabel(\"Rendement\")\n",
    "plt.show()\n",
    "    \n",
    "    \n",
    "\n",
    "\n"
   ]
  },
  {
   "cell_type": "markdown",
   "metadata": {},
   "source": [
    "On voit donc que le quand $x_1 $ou $x_2$ est dans [-2,0], la valeur absolue du rendement augmente avec $\\rho$, mais que quand \n",
    "$x_1$ et $x_2$ sont dans [0,1], le rendement diminue si $\\rho$ augmente.\n",
    "\n",
    "Donc plus $\\rho$ est élevé, plus investir des grosses sommes sur un seul actif peut faire gagner ou perdre beaucoup d'argent. A l'inverse, un $\\rho$ faible augmente le rendement pour les \"petits\" investissements et donne des valeurs moins extrêmes du rendement pour les \"gros\" investissements.\n",
    "\n",
    "$\\rho$ est donc un facteur qui accentue le risque dans les gros investissements."
   ]
  },
  {
   "cell_type": "markdown",
   "metadata": {},
   "source": [
    "C'est cohérent avec le fait qu'on ait vu que l'investissement maximal soit plus important pour $\\rho = 0.5$ que pour $\\rho = -0.5$"
   ]
  },
  {
   "cell_type": "markdown",
   "metadata": {},
   "source": [
    "### Question 8"
   ]
  },
  {
   "cell_type": "code",
   "execution_count": 260,
   "metadata": {},
   "outputs": [
    {
     "name": "stdout",
     "output_type": "stream",
     "text": [
      "[-0.08274428  0.8045738   0.27817048]\n",
      "[0.27505198 0.54158004 0.18336798]\n"
     ]
    }
   ],
   "source": [
    "minimize_f(0.05,0.15,0.3,0.1,0.3,0.8,0.1,0.2)\n",
    "minimize_f(0.05,0.15,0.3,0.1,0.3,0.8,0.1,0.15)"
   ]
  },
  {
   "cell_type": "markdown",
   "metadata": {},
   "source": [
    "Pour $r=0.1: x=[0.633,\\, 0.279,\\, 0.088]$\n",
    "\n",
    "Pour $r=0.2 :x=[-0.083,\\,  0.805,\\,   0.278]$\n",
    "\n",
    "Pour $r=0.15: x=[0.275,\\, 0.542,\\, 0.183]$\n",
    "\n",
    "On voit alors que la solution pour $r=0.15$ est la moyenne des solutions pour r=0.1 et r=0.2\n",
    "\n",
    "0.15 est justement la moyenne de 0.1 et 0.2\n",
    "\n",
    "On en déduit que connaitre les solution pour $r_1$ et $r_2$ suffit pour la déterminer à n'importe quel $r$:\n",
    "\n",
    "Si $r= (1-\\lambda)r_1 +\\lambda r_2$, alors $x_r =(1-\\lambda)x_{r_1} +\\lambda x_{r_2}$ (avec $\\lambda \\in \\mathbb{R}$\n",
    "\n",
    "Enfin, si $\\sigma_3 = 0$, alors la fonction $f$ ne dépend plus de $x_3$, donc on enlève un degré de liberté et investir dans un fond optimal suffirait à les déterminer tous."
   ]
  },
  {
   "cell_type": "markdown",
   "metadata": {},
   "source": [
    "### Question 9\n"
   ]
  },
  {
   "cell_type": "code",
   "execution_count": 261,
   "metadata": {},
   "outputs": [],
   "source": [
    "def minimize_f_short(p1,p2,p3,sigma1,sigma2,sigma3,rho,r,sm):\n",
    "\n",
    "    def f(x):\n",
    "        return (sigma1*x[0])**2 + (sigma2*x[1])**2 + (sigma3*x[2])**2 + 2*rho*s1*s2*x[1]*x[0]\n",
    "\n",
    "    def g1(x):\n",
    "        return x[0]+x[1]+x[2] - 1\n",
    "\n",
    "    def g2(x):\n",
    "        return p1*x[0] + p2*x[1] + p3*x[2] - r\n",
    "\n",
    "    #ajout de la nouvelle contrainte\n",
    "    def g3(x):\n",
    "        return x[3]+x[4]+x[5] - sm\n",
    "\n",
    "    opti = casadi.Opti()\n",
    "    x = opti.variable(6)\n",
    "    f = f(x)\n",
    "    opti.minimize(f)\n",
    "    opti.subject_to(g2(x) == 0)\n",
    "    opti.subject_to(g1(x) == 0)\n",
    "    opti.subject_to(g3(x)<=0)\n",
    "    opti.subject_to(x[3] + x[0] >= 0)\n",
    "    opti.subject_to(x[4] + x[1] >= 0)\n",
    "    opti.subject_to(x[5] + x[2] >= 0)\n",
    "    opti.subject_to(x[3] >= 0)\n",
    "    opti.subject_to(x[4] >= 0)\n",
    "    opti.subject_to(x[5] >= 0)\n",
    "\n",
    "    x0 = np.array([0.,0.,0.,0.,0.,0.])\n",
    "    opti.set_initial(x,x0)\n",
    "    p_opts = dict(print_time=False, verbose=False)\n",
    "    s_opts = dict(print_level=0)\n",
    "    opti.solver('ipopt',p_opts,s_opts)\n",
    "    sol = opti.solve()\n",
    "    print(sol.value(x))"
   ]
  },
  {
   "cell_type": "code",
   "execution_count": 262,
   "metadata": {},
   "outputs": [
    {
     "name": "stdout",
     "output_type": "stream",
     "text": [
      "Avec contrainte :\n",
      "[-5.00000031e-01  1.66666718e-01  1.33333331e+00  5.00000023e-01\n",
      " -7.65667067e-09 -7.63985345e-09]\n",
      "Sans contrainte :\n",
      "[-1.51392931  1.85654886  0.65738046]\n"
     ]
    }
   ],
   "source": [
    "print('Avec contrainte :')\n",
    "minimize_f_short(0.05,0.15,0.3,0.1,0.3,0.8,0.1,0.4,0.5)\n",
    "print('Sans contrainte :')\n",
    "minimize_f(0.05,0.15,0.3,0.1,0.3,0.8,0.1,0.4)"
   ]
  },
  {
   "cell_type": "markdown",
   "metadata": {},
   "source": [
    "Donc avec la contrainte des positions courtes:\n",
    "    $x = [-0.5000 ,\\, 0.1667,\\, 1.333] \\newline s=[5.000^{-1},\\, -7.659*10^{-9},\\, -7.649*10^{-9}]\\approx [5.000^{-1},\\, 0,\\, 0]$\n",
    "    \n",
    "Sans cette contrainte:\n",
    "$x=[-1.514,\\,  1.857,\\,  0.657]$"
   ]
  },
  {
   "cell_type": "markdown",
   "metadata": {},
   "source": [
    "On voit bien que la limitation des positions courtes empêche comme prévu les investissements trop loin dans le négatif"
   ]
  },
  {
   "cell_type": "markdown",
   "metadata": {},
   "source": [
    "### Question 10"
   ]
  },
  {
   "cell_type": "markdown",
   "metadata": {},
   "source": [
    "Si on n'est plus à $r$ fixé, c'est qu'on veut maximiser le rendement sans se restreindre à un rendement fixé. \n",
    "\n",
    "On veut donc minimiser -(le rendement) d'où le signe - qui apparaît.\n",
    "\n",
    "-Si $\\mu =0$, on ne cherche qu'à maximiser le rendement, peu importe le risque, on est dans la peau de l'investisseur le plus audacieux, qui se fiche du risque tant que son rendement peut augmenter.\n",
    "\n",
    "Ainsi, si les $x_i$ doivent tous être positifs (et leur somme toujours valoir 1), autant qu'ils soient tous nuls à l'exception de celui qui permettra d'augmenter le plus le rendement (ce $x_i$ sera donc égal à 1), c'est-à-dire celui qui est associé au $p_i$ le plus élevé dans le produit scalaire. \n",
    "\n",
    "Ici, c'est $p_3$ le plus élevé donc la solution serait x=[0, 0, 1]\n",
    "Ci-dessous, on obtient bien $x_3 \\approx 1$\n",
    "\n",
    "-Si $\\mu \\rightarrow +\\infty$ , c'est que le seul terme qu'on prendra en compte dans la minimisation de $f$ est le risque: on est ici au contraire dans la peau d'un investisseur prudent qui déteste le risque et qui va chercher à le minimiser, peu importe la perte de rendement que cela peut entrainer. On peut imaginer que la composante maximale sera celle qui correspond à la composante de p la moins importante, donc ici $x_1$\n",
    "\n",
    "Ci-dessous, on obtient numériquement que $x_1$ est largement plus élevée que $x_2$ ou $x_3$ comme prévu.\n",
    "\n"
   ]
  },
  {
   "cell_type": "code",
   "execution_count": 263,
   "metadata": {},
   "outputs": [
    {
     "name": "stdout",
     "output_type": "stream",
     "text": [
      "[0.91202409 0.07338143 0.01459448]\n",
      "[7.32065297e-11 6.84796003e-09 9.99999993e-01]\n"
     ]
    }
   ],
   "source": [
    "def minimize_function(p1,p2,p3,sigma1,sigma2,sigma3,rho):\n",
    "\n",
    "\n",
    "    def f(x):     #fonction à minimiser\n",
    "        return (sigma1*x[0])**2 + (sigma2*x[1])**2 + (sigma3*x[2])**2 + 2*rho*sigma1*sigma2*x[1]*x[0]\n",
    "    def r(x):\n",
    "        return -(p1*x[0]+p2*x[1]+p3*x[2])  #-(p^T).x\n",
    "\n",
    "    def g1(x):\n",
    "        return x[0]+x[1]+x[2] - 1    #première contrainte d'égalité\n",
    "\n",
    "\n",
    "    opti = casadi.Opti()\n",
    "    x = opti.variable(3)\n",
    "\n",
    "    ###Pour μ-->+∞, on minimise 𝑥𝑇Σ𝑥 \n",
    "    f=f(x)\n",
    "    opti.minimize(f)\n",
    "    opti.subject_to(g1(x) == 0)\n",
    "    opti.subject_to(x[0] >= 0)\n",
    "    opti.subject_to(x[1] >= 0)\n",
    "    opti.subject_to(x[2] >= 0)\n",
    "    x0 = np.array([0.,0.,0.])\n",
    "    opti.set_initial(x,x0)\n",
    "    p_opts = dict(print_time=False, verbose=False)\n",
    "    s_opts = dict(print_level=0)\n",
    "    opti.solver('ipopt',p_opts,s_opts)\n",
    "    sol = opti.solve()\n",
    "    print(sol.value(x))\n",
    "    \n",
    "    ###Pour μ=0 , on minimise -𝑝¯𝑇𝑥\n",
    "    x = opti.variable(3)\n",
    "    r=r(x)\n",
    "    opti.minimize(r)\n",
    "    opti.subject_to(g1(x) == 0)\n",
    "    opti.subject_to(x[0] >= 0)\n",
    "    opti.subject_to(x[1] >= 0)\n",
    "    opti.subject_to(x[2] >= 0)\n",
    "    x0 = np.array([0.1,0.1,0.8])\n",
    "    opti.set_initial(x,x0)\n",
    "    p_opts = dict(print_time=False, verbose=False)\n",
    "    s_opts = dict(print_level=0)\n",
    "    opti.solver('ipopt',p_opts,s_opts)\n",
    "    sol = opti.solve()\n",
    "    print(sol.value(x))\n",
    "   \n",
    "\n",
    "minimize_function(0.05,0.15,0.3,0.1,0.3,0.8,0.1)\n"
   ]
  },
  {
   "cell_type": "markdown",
   "metadata": {},
   "source": [
    "### Question 11"
   ]
  },
  {
   "cell_type": "markdown",
   "metadata": {},
   "source": [
    "En ne fixant pas $r$, on va forcément trouver une solution x au problème (7). \n",
    "Si on pose maintenant $r=\\bar p^Tx$, $x$ est bien aussi solution du problème  $\\underset{1^Tx=1}{min} -r +\\mu x^T\\Sigma x = \\underset{1^Tx=1}{min} +\\mu x^T\\Sigma x$ car ici $r$ est fixé."
   ]
  },
  {
   "cell_type": "markdown",
   "metadata": {},
   "source": [
    "### Question 12"
   ]
  },
  {
   "cell_type": "markdown",
   "metadata": {},
   "source": [
    "On peut résoudre séparément $\\forall k \\in {1,..,l} : \\underset{1^Tx=1}{min} -p^Tx +\\mu x^T\\hat\\Sigma_k x$\n",
    "\n",
    "Puis on ne retient que la solution qui correspond à la valeur la plus basse de la fonction à minimiser.\n"
   ]
  },
  {
   "cell_type": "code",
   "execution_count": 264,
   "metadata": {},
   "outputs": [
    {
     "data": {
      "image/png": "[encoded data removed]",
      "text/plain": [
       "<Figure size 432x288 with 1 Axes>"
      ]
     },
     "metadata": {
      "needs_background": "light"
     },
     "output_type": "display_data"
    },
    {
     "data": {
      "image/png": "[encoded data removed]",
      "text/plain": [
       "<Figure size 432x288 with 1 Axes>"
      ]
     },
     "metadata": {
      "needs_background": "light"
     },
     "output_type": "display_data"
    },
    {
     "data": {
      "image/png": "[encoded data removed]",
      "text/plain": [
       "<Figure size 432x288 with 1 Axes>"
      ]
     },
     "metadata": {
      "needs_background": "light"
     },
     "output_type": "display_data"
    }
   ],
   "source": [
    "rhos= [-0.5, -0.1, 0, 0.1, 0.2 , 0.5]\n",
    "sigmas_1=[0.05, 0.08, 0.11, 0.14, 0.17, 0.20]\n",
    "sigmas_3= [0.5, 0.6, 0.7, 0.8, 0.9, 1]\n",
    "a=np.arange(0,2,0.1)\n",
    "b=np.arange(2,100,5)\n",
    "mus=np.concatenate((a,b))\n",
    "\n",
    "def g1(x):      #contrainte d'égalité\n",
    "        return x[0]+x[1]+x[2] - 1  \n",
    "    \n",
    "###Fonctions à tracer à la fin:\n",
    "def F(x, rho=0.1, p1 = 0.05, p2 = 0.15, p3 = 0.3, sigma1 = 0.1, sigma2 = 0.3, sigma3 = 0.8):  #le risque\n",
    "    return (sigma1*x[0])**2 + (sigma2*x[1])**2 + (sigma3*x[2])**2 + 2*rho*sigma1*sigma2*x[1]*x[0]\n",
    "def r(x):  #rendement\n",
    "    return 0.05*x[0]+0.15*x[1]+0.3*x[2]\n",
    "\n",
    "###En ayant une incertitude sur 𝜌:\n",
    "plt.figure(1)\n",
    "for mu in mus:\n",
    "    for i in range(len(rhos)):\n",
    "        rho=rhos[i]\n",
    "\n",
    "        def f(x, rho=0.1, p1 = 0.05, p2 = 0.15, p3 = 0.3, sigma1 = 0.1, sigma2 = 0.3, sigma3 = 0.8):     #fonction à minimiser\n",
    "            return mu*((sigma1*x[0])**2 + (sigma2*x[1])**2 + (sigma3*x[2])**2 + 2*rho*sigma1*sigma2*x[1]*x[0]) -(p1*x[0]+p2*x[1]+p3*x[2])\n",
    "\n",
    "        #première contrainte d'égalité\n",
    "\n",
    "\n",
    "        opti = casadi.Opti()\n",
    "        x = opti.variable(3)\n",
    "        \n",
    "        f1=f(x)\n",
    "        opti.minimize(f1)\n",
    "        opti.subject_to(g1(x) == 0)\n",
    "        opti.subject_to(x[0] >= 0)\n",
    "        opti.subject_to(x[1] >= 0)\n",
    "        opti.subject_to(x[2] >= 0)\n",
    "        x0 = np.array([0.,0.,0.])\n",
    "        opti.set_initial(x,x0)\n",
    "        p_opts = dict(print_time=False, verbose=False)\n",
    "        s_opts = dict(print_level=0)\n",
    "        opti.solver('ipopt',p_opts,s_opts)\n",
    "        sol = opti.solve()\n",
    "        \n",
    "        ###On cherche la solution qui donne la plus basse valeur de la fonction à minimiser\n",
    "        if i==0:\n",
    "            x_min=sol.value(x)\n",
    "            rho_min=rho\n",
    "        elif f(sol.value(x),rho)<f(x_min,rho_min):\n",
    "            x_min=sol.value(x)\n",
    "            rho_min=rho\n",
    "    plt.scatter(np.sqrt(F(x_min,rho_min)),r(x_min), s=5+mu, c=\"b\", marker= \"o\")\n",
    "plt.title('Incertitude sur rho')\n",
    "plt.xlabel(\"Risque\")\n",
    "plt.ylabel(\"Rendement\")\n",
    "\n",
    "###En ayant une incertitude sur 𝜎1 :\n",
    "plt.figure(2)\n",
    "for mu in mus:\n",
    "    for i in range(len(sigmas_1)):\n",
    "        sigma_1=sigmas_1[i]\n",
    "\n",
    "        def f(x, rho=0.1, p1 = 0.05, p2 = 0.15, p3 = 0.3, sigma1 =sigma_1 , sigma2 = 0.3, sigma3 = 0.8):     #fonction à minimiser\n",
    "            return mu*((sigma1*x[0])**2 + (sigma2*x[1])**2 + (sigma3*x[2])**2 + 2*rho*sigma1*sigma2*x[1]*x[0]) -(p1*x[0]+p2*x[1]+p3*x[2])\n",
    "\n",
    "        #première contrainte d'égalité\n",
    "\n",
    "\n",
    "        opti = casadi.Opti()\n",
    "        x = opti.variable(3)\n",
    "        \n",
    "        f1=f(x)\n",
    "        opti.minimize(f1)\n",
    "        opti.subject_to(g1(x) == 0)\n",
    "        opti.subject_to(x[0] >= 0)\n",
    "        opti.subject_to(x[1] >= 0)\n",
    "        opti.subject_to(x[2] >= 0)\n",
    "        x0 = np.array([0.,0.,0.])\n",
    "        opti.set_initial(x,x0)\n",
    "        p_opts = dict(print_time=False, verbose=False)\n",
    "        s_opts = dict(print_level=0)\n",
    "        opti.solver('ipopt',p_opts,s_opts)\n",
    "        sol = opti.solve()\n",
    "        \n",
    "        ###On cherche la solution qui donne la plus basse valeur de la fonction à minimiser\n",
    "        if i==0:\n",
    "            x_min=sol.value(x)\n",
    "            sigma_1_min=sigma_1\n",
    "        elif f(sol.value(x),sigma1=sigma_1)<f(x_min,sigma1=sigma_1_min):\n",
    "            x_min=sol.value(x)\n",
    "            sigma_1_min=sigma_1\n",
    "    plt.scatter(np.sqrt(F(x_min,sigma1=sigma_1_min)),r(x_min), s=5+mu, c=\"b\", marker= \"o\")\n",
    "plt.title('Incertitude sur sigma1')\n",
    "plt.xlabel(\"Risque\")\n",
    "plt.ylabel(\"Rendement\")\n",
    "\n",
    "\n",
    "###En ayant une incertitude sur 𝜎3 :\n",
    "plt.figure(3)\n",
    "for mu in mus:\n",
    "    for i in range(len(sigmas_3)):\n",
    "        sigma_3=sigmas_3[i]\n",
    "\n",
    "        def f(x, rho=0.1, p1 = 0.05, p2 = 0.15, p3 = 0.3, sigma1 =0.1 , sigma2 = 0.3, sigma3 = sigma_3):     #fonction à minimiser\n",
    "            return mu*((sigma1*x[0])**2 + (sigma2*x[1])**2 + (sigma3*x[2])**2 + 2*rho*sigma1*sigma2*x[1]*x[0]) -(p1*x[0]+p2*x[1]+p3*x[2])\n",
    "\n",
    "        #première contrainte d'égalité\n",
    "\n",
    "\n",
    "        opti = casadi.Opti()\n",
    "        x = opti.variable(3)\n",
    "        \n",
    "        f1=f(x)\n",
    "        opti.minimize(f1)\n",
    "        opti.subject_to(g1(x) == 0)\n",
    "        opti.subject_to(x[0] >= 0)\n",
    "        opti.subject_to(x[1] >= 0)\n",
    "        opti.subject_to(x[2] >= 0)\n",
    "        x0 = np.array([0.,0.,0.])\n",
    "        opti.set_initial(x,x0)\n",
    "        p_opts = dict(print_time=False, verbose=False)\n",
    "        s_opts = dict(print_level=0)\n",
    "        opti.solver('ipopt',p_opts,s_opts)\n",
    "        sol = opti.solve()\n",
    "        \n",
    "        ###On cherche la solution qui donne la plus basse valeur de la fonction à minimiser\n",
    "        if i==0:\n",
    "            x_min=sol.value(x)\n",
    "            sigma_3_min=sigma_3\n",
    "        elif f(sol.value(x),sigma3=sigma_3)<f(x_min,sigma3=sigma_3_min):\n",
    "            x_min=sol.value(x)\n",
    "            sigma_3_min=sigma_3\n",
    "    plt.scatter(np.sqrt(F(x_min,sigma3=sigma_3_min)),r(x_min), s=5+mu, c=\"b\", marker= \"o\")\n",
    "plt.title('Incertitude sur sigma3')\n",
    "plt.xlabel(\"Risque\")\n",
    "plt.ylabel(\"Rendement\")\n",
    "plt.show()\n",
    "\n",
    "    \n",
    "\n",
    "    \n"
   ]
  },
  {
   "cell_type": "markdown",
   "metadata": {},
   "source": [
    "Les faibles valeurs de $\\mu$ se retrouvent en haut à droite (la largeur des points augmente avec $\\mu$). \n",
    "\n",
    "On voit bien l'effet de $\\mu$: plus $\\mu$ augmente, plus le risque et le rendement diminuent: en effet, l'investisseur aime de moins en moins prendre des risques, et accepte alors de perdre du rendement pour minimiser ce risque."
   ]
  }
 ],
 "metadata": {
  "kernelspec": {
   "display_name": "Python 3",
   "language": "python",
   "name": "python3"
  },
  "language_info": {
   "codemirror_mode": {
    "name": "ipython",
    "version": 3
   },
   "file_extension": ".py",
   "mimetype": "text/x-python",
   "name": "python",
   "nbconvert_exporter": "python",
   "pygments_lexer": "ipython3",
   "version": "3.8.3"
  }
 },
 "nbformat": 4,
 "nbformat_minor": 2
}
