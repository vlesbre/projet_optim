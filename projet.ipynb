{
 "cells": [
  {
   "cell_type": "markdown",
   "metadata": {},
   "source": [
    "# Projet d'optimisation\n",
    "\n",
    "**Josué Agbekodo et Viviane Lesbre**"
   ]
  },
  {
   "cell_type": "code",
   "execution_count": null,
   "metadata": {},
   "outputs": [],
   "source": [
    "from casadi import *\n",
    "import tim\n",
    "import matplotlib.pyplot as plt"
   ]
  },
  {
   "cell_type": "markdown",
   "metadata": {},
   "source": [
    "## Question 1 :\n",
    "Cette situation correspond à la gestion d'un protefeuille d'action en bourse. Il y a n actions à acheter et l'investisseur place à chaque fois $x_i$ sur la ième action.\n",
    "\n",
    "L'équation (1) nous signale que  $ \\sum_{i=1}^{n} x_i =1 $, donc notre budget total est de 1.\n",
    "L'équation (2) indique qu'en se fixant au préalable un risque qu'on veut bien prendre, on est peut investir plus ou moins selon la fluctuation des prix. Plus celle-ci est grande, plus un même investissement impliquera un gros risque pour nous, donc moins on pourra investir."
   ]
  },
  {
   "cell_type": "markdown",
   "metadata": {},
   "source": [
    "## Question 2 :\n",
    "\n",
    "On cherche à minimiser le risque soit l'expression $x^T \\Sigma x$ sachant que $ 1^Tx=1$ et $\\bar p^Tx=r$. Ainsi on introduit \n",
    "$$\n",
    "\\begin{cases}\n",
    "\\forall x \\in \\mathbb{R^n}, c_{eq}(x) = (1^T x -1,\\bar p^Tx-r) \\\\\n",
    "\\forall x \\in \\mathbb{R^n}, f(x) = x^T \\Sigma x \\\\\n",
    "\\end{cases}\n",
    "$$\n",
    "\n",
    "Et le problème revient bien à $ \\underset{c_{eq}=0}{min} f(x) $\n",
    "\n",
    "On a ici pris $z=x$, il y a donc $n_i = n$ variables de décisions: ce sont les $x_i$.\n",
    "\n",
    "On a donc $\\forall x \\in \\mathbb{R^n}, f(x)= x^T\\Sigma x$"
   ]
  },
  {
   "cell_type": "markdown",
   "metadata": {},
   "source": [
    "## Question 3:\n",
    "\n",
    "Cette contrainte signifie que les $(-x_i)_{1 \\leq i \\leq n}$ ne doivent pas être trop élevés, donc que les composantes de x ne doivent pas trop s'étendre dans les négatifs, et donc qu'il ne faut pas trop faire d'investissements \"négatifs\", c'est-à-dire à qu'il ne faut pas trop vendre des actifs.\n",
    "\n",
    "En posant $\\forall x \\in \\mathbb{R^n}, c_M(x)=1^Tmax(-x,0)-s_M$, cette contrainte restreint donc notre ensemble d'étude à E= {$x \\in \\mathbb{R^n}, c_{eq}(x) = 0, c_M(x)\\leq 0$}, nous avons donc deux contraintes d'égalité et une d'inégalité, ce qui pose un problème pour les algorithmes que nous connaissons, qui ne considrèent que des contraintes d'égalité ou alors que des contraintes d'inégalité."
   ]
  },
  {
   "cell_type": "markdown",
   "metadata": {},
   "source": [
    "## Question 4:\n",
    "On voit que tous les $s \\in \\mathbb{R^n}$ qui vérifient $s \\geq -x$ et $s \\geq 0 $ vérifient alors $s \\geq max(-x,0)$ en regardant composante par composante.\n",
    "\n",
    "En notant F={$s \\in \\mathbb{R^n}, s \\geq -x, s \\geq 0$}, on peut dire que $max(-x,0)$ est le minimum de $F$. \n",
    "\n",
    "La dernière condition ($1^Ts \\leq s_M$) est une inégalité qui empêche $s$ d'être trop élevée.\n",
    "Donc si il existe un $s \\in F$ qui respecte cette dernière condition, c'est que $max(-x,0)$ la respecte aussi (en tant que minimum de F). A l'inverse, si $max(-x,0)$ respecte cette condition, alors il existe $s \\in F$ qui respecte cette condition (par exemple, $s=max(-x,0)$). \n",
    "\n",
    "On a donc bien équivalence entre les conditions (5) et le fait de trouver un $ s \\in \\mathbb{R^n}$ qui respecte les 3 conditions  $ s \\geq -x , s \\geq 0$ et $1^Ts \\leq s_M$.\n",
    "\n",
    "Le problème de la question 2 est maintenant:  $\\underset{\\exists s \\in \\mathbb{R^n}, s \\,\\geq -x ,\\, s \\,\\geq\\, 0,\\, 1^Ts \\leq s_M }{\\underset{\\bar p^Tx-r=0}{\\underset{1^Tx-1=0}{minf(x)}}}$ "
   ]
  },
  {
   "cell_type": "markdown",
   "metadata": {},
   "source": [
    "### Question 5"
   ]
  },
  {
   "cell_type": "markdown",
   "metadata": {},
   "source": [
    "C'est un problème d'optimisation sous contraintes d'égalités linéaires. \n",
    "On peut donc définir le Lagrangien $L: (x,\\lambda)\\in \\mathbb{R^n}\\times \\mathbb{R} \\rightarrow f(x) +\\lambda^T(1^Tx-1)$ ou bien appliquer l'algorithme d'élimination des variables pour contraintes linéaires d'optimisation sans contrainte. On se ramène dans les deux cas à un problème d'optimisation sans contraintes, qu'on peut résoudre avec les algorithmes correspondant (comme par exemple l'algorithme BFGS). "
   ]
  },
  {
   "cell_type": "markdown",
   "metadata": {},
   "source": [
    "### Question 6"
   ]
  },
  {
   "cell_type": "markdown",
   "metadata": {},
   "source": [
    "Déjà:\n",
    "\n",
    "$x=\\begin{pmatrix} x_1\\\\  x_2\\\\  x_3 \\end{pmatrix}$\n",
    "\n",
    "$x^t\\Sigma x=(x_1, x_2, x_3) \\begin{pmatrix} \\sigma_1^2 &\\rho\\sigma_1\\sigma_2 & 0\\\\\\rho\\sigma_1\\sigma_2&\\sigma_2^2&0\\\\0&0&\\sigma_3^2 \\end{pmatrix}\n",
    " \\begin{pmatrix} x_1\\\\ x_2\\\\ x_3\\\\ \\end{pmatrix} \\newline\\newline$\n",
    " $x^t\\Sigma x= (\\sigma_1x_1)^2+(\\sigma_2x_2)^2+(\\sigma_3x_3)^2+2\\rho\\sigma_1\\sigma_2x_1x_2\n",
    " $"
   ]
  },
  {
   "cell_type": "code",
   "execution_count": 14,
   "metadata": {},
   "outputs": [],
   "source": [
    "def minimize_f(p1,p2,p3,sigma1,sigma2,sigma3,rho,r):\n",
    "\n",
    "\n",
    "    def f(x):     #fonction à minimiser\n",
    "        return (sigma1*x[0])**2 + (sigma2*x[1])**2 + (sigma3*x[2])**2 + 2*rho*sigma1*sigma2*x[1]*x[0]\n",
    "\n",
    "    def g1(x):\n",
    "        return x[0]+x[1]+x[2] - 1    #première contrainte d'égalité\n",
    "\n",
    "    def g2(x):\n",
    "        return p1*x[0] + p2*x[1] + p3*x[2] - r    #deuxième contrainte d'égalité\n",
    "\n",
    "\n",
    "    opti = casadi.Opti()\n",
    "    x = opti.variable(3)\n",
    "\n",
    "    f=f(x)\n",
    "    opti.minimize(f)\n",
    "    opti.subject_to(g1(x) == 0)\n",
    "    opti.subject_to(g2(x) == 0)\n",
    "    x0 = np.array([0.,0.,0.])\n",
    "    opti.set_initial(x,x0)\n",
    "    opti.solver('ipopt')\n",
    "    sol = opti.solve()\n",
    "    print(sol.value(x))\n"
   ]
  },
  {
   "cell_type": "code",
   "execution_count": 15,
   "metadata": {},
   "outputs": [
    {
     "name": "stdout",
     "output_type": "stream",
     "text": [
      "This is Ipopt version 3.12.3, running with linear solver mumps.\n",
      "NOTE: Other linear solvers might be more efficient (see Ipopt documentation).\n",
      "\n",
      "Number of nonzeros in equality constraint Jacobian...:        6\n",
      "Number of nonzeros in inequality constraint Jacobian.:        0\n",
      "Number of nonzeros in Lagrangian Hessian.............:        4\n",
      "\n",
      "Total number of variables............................:        3\n",
      "                     variables with only lower bounds:        0\n",
      "                variables with lower and upper bounds:        0\n",
      "                     variables with only upper bounds:        0\n",
      "Total number of equality constraints.................:        2\n",
      "Total number of inequality constraints...............:        0\n",
      "        inequality constraints with only lower bounds:        0\n",
      "   inequality constraints with lower and upper bounds:        0\n",
      "        inequality constraints with only upper bounds:        0\n",
      "\n",
      "iter    objective    inf_pr   inf_du lg(mu)  ||d||  lg(rg) alpha_du alpha_pr  ls\n",
      "   0 0.0000000e+000 1.00e+000 0.00e+000  -1.0 0.00e+000    -  0.00e+000 0.00e+000   0\n",
      "   1 1.7067775e-002 1.39e-017 2.78e-017  -1.7 6.33e-001    -  1.00e+000 1.00e+000h  1\n",
      "\n",
      "Number of Iterations....: 1\n",
      "\n",
      "                                   (scaled)                 (unscaled)\n",
      "Objective...............:  1.7067775467775471e-002   1.7067775467775471e-002\n",
      "Dual infeasibility......:  2.7755575615628914e-017   2.7755575615628914e-017\n",
      "Constraint violation....:  1.3877787807814457e-017   1.3877787807814457e-017\n",
      "Complementarity.........:  0.0000000000000000e+000   0.0000000000000000e+000\n",
      "Overall NLP error.......:  2.7755575615628914e-017   2.7755575615628914e-017\n",
      "\n",
      "\n",
      "Number of objective function evaluations             = 2\n",
      "Number of objective gradient evaluations             = 2\n",
      "Number of equality constraint evaluations            = 2\n",
      "Number of inequality constraint evaluations          = 0\n",
      "Number of equality constraint Jacobian evaluations   = 2\n",
      "Number of inequality constraint Jacobian evaluations = 0\n",
      "Number of Lagrangian Hessian evaluations             = 1\n",
      "Total CPU secs in IPOPT (w/o function evaluations)   =      0.004\n",
      "Total CPU secs in NLP function evaluations           =      0.000\n",
      "\n",
      "EXIT: Optimal Solution Found.\n",
      "      solver  :   t_proc      (avg)   t_wall      (avg)    n_eval\n",
      "       nlp_f  |        0 (       0)        0 (       0)         2\n",
      "       nlp_g  |        0 (       0)        0 (       0)         2\n",
      "  nlp_grad_f  |        0 (       0)        0 (       0)         3\n",
      "  nlp_hess_l  |        0 (       0)        0 (       0)         1\n",
      "   nlp_jac_g  |        0 (       0)        0 (       0)         3\n",
      "       total  |  22.00ms ( 22.00ms)  21.66ms ( 21.66ms)         1\n",
      "[0.63284823 0.27858628 0.08856549]\n"
     ]
    }
   ],
   "source": [
    "minimize_f(0.05,0.15,0.3,0.1,0.3,0.8,0.1,0.1)"
   ]
  },
  {
   "cell_type": "markdown",
   "metadata": {},
   "source": [
    "On obtient $x=[0.633,\\, 0.279,\\, 0.088]$ "
   ]
  },
  {
   "cell_type": "markdown",
   "metadata": {},
   "source": [
    "### Question 7"
   ]
  },
  {
   "cell_type": "code",
   "execution_count": 11,
   "metadata": {},
   "outputs": [
    {
     "name": "stdout",
     "output_type": "stream",
     "text": [
      "This is Ipopt version 3.12.3, running with linear solver mumps.\n",
      "NOTE: Other linear solvers might be more efficient (see Ipopt documentation).\n",
      "\n",
      "Number of nonzeros in equality constraint Jacobian...:        6\n",
      "Number of nonzeros in inequality constraint Jacobian.:        0\n",
      "Number of nonzeros in Lagrangian Hessian.............:        4\n",
      "\n",
      "Total number of variables............................:        3\n",
      "                     variables with only lower bounds:        0\n",
      "                variables with lower and upper bounds:        0\n",
      "                     variables with only upper bounds:        0\n",
      "Total number of equality constraints.................:        2\n",
      "Total number of inequality constraints...............:        0\n",
      "        inequality constraints with only lower bounds:        0\n",
      "   inequality constraints with lower and upper bounds:        0\n",
      "        inequality constraints with only upper bounds:        0\n",
      "\n",
      "iter    objective    inf_pr   inf_du lg(mu)  ||d||  lg(rg) alpha_du alpha_pr  ls\n",
      "   0 0.0000000e+000 1.00e+000 0.00e+000  -1.0 0.00e+000    -  0.00e+000 0.00e+000   0\n",
      "   1 2.1123596e-002 0.00e+000 1.39e-017  -1.7 6.52e-001    -  1.00e+000 1.00e+000h  1\n",
      "\n",
      "Number of Iterations....: 1\n",
      "\n",
      "                                   (scaled)                 (unscaled)\n",
      "Objective...............:  2.1123595505617987e-002   2.1123595505617987e-002\n",
      "Dual infeasibility......:  1.3877787807814457e-017   1.3877787807814457e-017\n",
      "Constraint violation....:  0.0000000000000000e+000   0.0000000000000000e+000\n",
      "Complementarity.........:  0.0000000000000000e+000   0.0000000000000000e+000\n",
      "Overall NLP error.......:  1.3877787807814457e-017   1.3877787807814457e-017\n",
      "\n",
      "\n",
      "Number of objective function evaluations             = 2\n",
      "Number of objective gradient evaluations             = 2\n",
      "Number of equality constraint evaluations            = 2\n",
      "Number of inequality constraint evaluations          = 0\n",
      "Number of equality constraint Jacobian evaluations   = 2\n",
      "Number of inequality constraint Jacobian evaluations = 0\n",
      "Number of Lagrangian Hessian evaluations             = 1\n",
      "Total CPU secs in IPOPT (w/o function evaluations)   =      0.004\n",
      "Total CPU secs in NLP function evaluations           =      0.001\n",
      "\n",
      "EXIT: Optimal Solution Found.\n",
      "      solver  :   t_proc      (avg)   t_wall      (avg)    n_eval\n",
      "       nlp_f  |        0 (       0)        0 (       0)         2\n",
      "       nlp_g  |        0 (       0)        0 (       0)         2\n",
      "  nlp_grad_f  |   1.00ms (333.33us) 997.00us (332.33us)         3\n",
      "  nlp_hess_l  |        0 (       0)        0 (       0)         1\n",
      "   nlp_jac_g  |        0 (       0)        0 (       0)         3\n",
      "       total  |   5.00ms (  5.00ms)   4.99ms (  4.99ms)         1\n",
      "[0.65168539 0.24719101 0.1011236 ]\n",
      "This is Ipopt version 3.12.3, running with linear solver mumps.\n",
      "NOTE: Other linear solvers might be more efficient (see Ipopt documentation).\n",
      "\n",
      "Number of nonzeros in equality constraint Jacobian...:        6\n",
      "Number of nonzeros in inequality constraint Jacobian.:        0\n",
      "Number of nonzeros in Lagrangian Hessian.............:        4\n",
      "\n",
      "Total number of variables............................:        3\n",
      "                     variables with only lower bounds:        0\n",
      "                variables with lower and upper bounds:        0\n",
      "                     variables with only upper bounds:        0\n",
      "Total number of equality constraints.................:        2\n",
      "Total number of inequality constraints...............:        0\n",
      "        inequality constraints with only lower bounds:        0\n",
      "   inequality constraints with lower and upper bounds:        0\n",
      "        inequality constraints with only upper bounds:        0\n",
      "\n",
      "iter    objective    inf_pr   inf_du lg(mu)  ||d||  lg(rg) alpha_du alpha_pr  ls\n",
      "   0 0.0000000e+000 1.00e+000 0.00e+000  -1.0 0.00e+000    -  0.00e+000 0.00e+000   0\n",
      "   1 1.0392523e-002 0.00e+000 2.78e-017  -1.7 6.09e-001    -  1.00e+000 1.00e+000h  1\n",
      "\n",
      "Number of Iterations....: 1\n",
      "\n",
      "                                   (scaled)                 (unscaled)\n",
      "Objective...............:  1.0392523364485984e-002   1.0392523364485984e-002\n",
      "Dual infeasibility......:  2.7755575615628914e-017   2.7755575615628914e-017\n",
      "Constraint violation....:  0.0000000000000000e+000   0.0000000000000000e+000\n",
      "Complementarity.........:  0.0000000000000000e+000   0.0000000000000000e+000\n",
      "Overall NLP error.......:  2.7755575615628914e-017   2.7755575615628914e-017\n",
      "\n",
      "\n",
      "Number of objective function evaluations             = 2\n",
      "Number of objective gradient evaluations             = 2\n",
      "Number of equality constraint evaluations            = 2\n",
      "Number of inequality constraint evaluations          = 0\n",
      "Number of equality constraint Jacobian evaluations   = 2\n",
      "Number of inequality constraint Jacobian evaluations = 0\n",
      "Number of Lagrangian Hessian evaluations             = 1\n",
      "Total CPU secs in IPOPT (w/o function evaluations)   =      0.019\n",
      "Total CPU secs in NLP function evaluations           =      0.000\n",
      "\n",
      "EXIT: Optimal Solution Found.\n",
      "      solver  :   t_proc      (avg)   t_wall      (avg)    n_eval\n",
      "       nlp_f  |        0 (       0)        0 (       0)         2\n",
      "       nlp_g  |        0 (       0)        0 (       0)         2\n",
      "  nlp_grad_f  |        0 (       0)        0 (       0)         3\n",
      "  nlp_hess_l  |        0 (       0)        0 (       0)         1\n",
      "   nlp_jac_g  |        0 (       0)        0 (       0)         3\n",
      "       total  |  22.00ms ( 22.00ms)  22.00ms ( 22.00ms)         1\n",
      "[0.60934579 0.31775701 0.0728972 ]\n"
     ]
    }
   ],
   "source": [
    "minimize_f(0.05,0.15,0.3,0.1,0.3,0.8,0.5,0.1)\n",
    "minimize_f(0.05,0.15,0.3,0.1,0.3,0.8,-0.5,0.1)"
   ]
  },
  {
   "cell_type": "markdown",
   "metadata": {},
   "source": [
    "Pour $\\rho=-0.5:   x=[0.609,\\, 0.318,\\, 0.073]$\n",
    "\n",
    "Pour $\\rho= 0.5: \\,\\,\\,x=[0.652,\\, 0.247,\\, 0.101]$"
   ]
  },
  {
   "cell_type": "code",
   "execution_count": 64,
   "metadata": {},
   "outputs": [
    {
     "data": {
      "image/png": "[encoded data removed]",
      "text/plain": [
       "<Figure size 432x288 with 1 Axes>"
      ]
     },
     "metadata": {
      "needs_background": "light"
     },
     "output_type": "display_data"
    }
   ],
   "source": [
    "def f(x, rho, p1 = 0.05, p2 = 0.15, p3 = 0.3, sigma1 = 0.1, sigma2 = 0.3, sigma3 = 0.8, r = 0.1, ):\n",
    "    return (sigma1*x[0])**2 + (sigma2*x[1])**2 + (sigma3*x[2])**2 + 2*rho*sigma1*sigma2*x[1]*x[0]\n",
    "def h(x):\n",
    "    return 0.05*x[0]+0.15*x[1]+0.3*x[2]\n",
    "\n",
    "rhos=[-0.5,0.1,0.5]\n",
    "colors=[\"b\",\"g\",\"r\"]\n",
    "###pour x1,x2 dans [0,1]^2\n",
    "\n",
    "x1=np.arange(0,1,0.01) #maillage fin\n",
    "x=[[x1[i],1-x1[i],0] for i in range(len(x1))] #on a bien x1+x2+x3=1\n",
    "y1=np.arange(-2,0,0.01)\n",
    "y=[[y1[i],1-y1[i],0] for i in range(len(y1))]\n",
    "z1=np.arange(1,3,0.01)\n",
    "z=[[z1[i],1-z1[i],0] for i in range(len(z1))]\n",
    "\n",
    "for i in range(3):\n",
    "    rho=rhos[i]\n",
    "    color=colors[i]\n",
    "    abs_x=[f(x[j],rho) for j in range(len(x))]\n",
    "    ord_x=[h(x[j]) for j in range(len(x))]\n",
    "    abs_y=[f(y[j],rho) for j in range(len(y))]\n",
    "    ord_y=[h(y[j]) for j in range(len(y))]\n",
    "    abs_z=[f(z[j],rho) for j in range(len(z))]\n",
    "    ord_z=[h(z[j]) for j in range(len(z))]\n",
    "    plt.plot(np.sqrt(abs_y), ord_y, color,linewidth=0.3, label=f'x1 in [-2,0]')\n",
    "    plt.plot(np.sqrt(abs_x), ord_x,color, linewidth=1 ,label='x1 in [0,1]')\n",
    "    plt.plot(np.sqrt(abs_z), ord_z,color, linewidth=4,label=f'x1 in [1,3]')  \n",
    "    if i==0:\n",
    "        plt.legend()\n",
    "plt.title(\"blue:rho=-0.5, green: rho=0.1, red: rho=0.5\")    \n",
    "plt.xlabel(\"Risque\")\n",
    "plt.ylabel(\"Rendement\")\n",
    "plt.show()\n",
    "    \n",
    "    \n",
    "\n",
    "\n"
   ]
  },
  {
   "cell_type": "markdown",
   "metadata": {},
   "source": [
    "On voit donc que le quand $x_1 $ou $x_2$ est dans [-2,0], la valeur absolue du rendement augmente avec $\\rho$, mais que quand \n",
    "$x_1$ et $x_2$ sont dans [0,1], le rendement diminue si $\\rho$ augmente.\n",
    "\n",
    "Donc plus $\\rho$ est élevé, plus investir des grosses sommes sur un seul actif peut faire gagner ou perdre beaucoup d'argent. A l'inverse, un $\\rho$ faible augmente le rendement pour les \"petits\" investissements et donne des valeurs moins extrêmes du rendement pour les \"gros\" investissements.\n",
    "\n",
    "$\\rho$ est donc un facteur qui accentue le risque dans les gros investissements."
   ]
  },
  {
   "cell_type": "markdown",
   "metadata": {},
   "source": [
    "C'est cohérent avec le fait qu'on ait vu que l'investissement maximal soit plus important pour $\\rho = 0.5$ que pour $\\rho = -0.5$"
   ]
  },
  {
   "cell_type": "markdown",
   "metadata": {},
   "source": [
    "### Question 8"
   ]
  },
  {
   "cell_type": "code",
   "execution_count": 66,
   "metadata": {},
   "outputs": [
    {
     "name": "stdout",
     "output_type": "stream",
     "text": [
      "This is Ipopt version 3.12.3, running with linear solver mumps.\n",
      "NOTE: Other linear solvers might be more efficient (see Ipopt documentation).\n",
      "\n",
      "Number of nonzeros in equality constraint Jacobian...:        6\n",
      "Number of nonzeros in inequality constraint Jacobian.:        0\n",
      "Number of nonzeros in Lagrangian Hessian.............:        4\n",
      "\n",
      "Total number of variables............................:        3\n",
      "                     variables with only lower bounds:        0\n",
      "                variables with lower and upper bounds:        0\n",
      "                     variables with only upper bounds:        0\n",
      "Total number of equality constraints.................:        2\n",
      "Total number of inequality constraints...............:        0\n",
      "        inequality constraints with only lower bounds:        0\n",
      "   inequality constraints with lower and upper bounds:        0\n",
      "        inequality constraints with only upper bounds:        0\n",
      "\n",
      "iter    objective    inf_pr   inf_du lg(mu)  ||d||  lg(rg) alpha_du alpha_pr  ls\n",
      "   0 0.0000000e+000 1.00e+000 0.00e+000  -1.0 0.00e+000    -  0.00e+000 0.00e+000   0\n",
      "   1 1.0745198e-001 0.00e+000 5.55e-017  -1.7 8.05e-001    -  1.00e+000 1.00e+000h  1\n",
      "\n",
      "Number of Iterations....: 1\n",
      "\n",
      "                                   (scaled)                 (unscaled)\n",
      "Objective...............:  1.0745197505197507e-001   1.0745197505197507e-001\n",
      "Dual infeasibility......:  5.5511151231257827e-017   5.5511151231257827e-017\n",
      "Constraint violation....:  0.0000000000000000e+000   0.0000000000000000e+000\n",
      "Complementarity.........:  0.0000000000000000e+000   0.0000000000000000e+000\n",
      "Overall NLP error.......:  5.5511151231257827e-017   5.5511151231257827e-017\n",
      "\n",
      "\n",
      "Number of objective function evaluations             = 2\n",
      "Number of objective gradient evaluations             = 2\n",
      "Number of equality constraint evaluations            = 2\n",
      "Number of inequality constraint evaluations          = 0\n",
      "Number of equality constraint Jacobian evaluations   = 2\n",
      "Number of inequality constraint Jacobian evaluations = 0\n",
      "Number of Lagrangian Hessian evaluations             = 1\n",
      "Total CPU secs in IPOPT (w/o function evaluations)   =      0.008\n",
      "Total CPU secs in NLP function evaluations           =      0.000\n",
      "\n",
      "EXIT: Optimal Solution Found.\n",
      "      solver  :   t_proc      (avg)   t_wall      (avg)    n_eval\n",
      "       nlp_f  |        0 (       0)        0 (       0)         2\n",
      "       nlp_g  |        0 (       0)        0 (       0)         2\n",
      "  nlp_grad_f  |        0 (       0)        0 (       0)         3\n",
      "  nlp_hess_l  |        0 (       0)        0 (       0)         1\n",
      "   nlp_jac_g  |        0 (       0)        0 (       0)         3\n",
      "       total  |   8.00ms (  8.00ms)   8.00ms (  8.00ms)         1\n",
      "[-0.08274428  0.8045738   0.27817048]\n",
      "This is Ipopt version 3.12.3, running with linear solver mumps.\n",
      "NOTE: Other linear solvers might be more efficient (see Ipopt documentation).\n",
      "\n",
      "Number of nonzeros in equality constraint Jacobian...:        6\n",
      "Number of nonzeros in inequality constraint Jacobian.:        0\n",
      "Number of nonzeros in Lagrangian Hessian.............:        4\n",
      "\n",
      "Total number of variables............................:        3\n",
      "                     variables with only lower bounds:        0\n",
      "                variables with lower and upper bounds:        0\n",
      "                     variables with only upper bounds:        0\n",
      "Total number of equality constraints.................:        2\n",
      "Total number of inequality constraints...............:        0\n",
      "        inequality constraints with only lower bounds:        0\n",
      "   inequality constraints with lower and upper bounds:        0\n",
      "        inequality constraints with only upper bounds:        0\n",
      "\n",
      "iter    objective    inf_pr   inf_du lg(mu)  ||d||  lg(rg) alpha_du alpha_pr  ls\n",
      "   0 0.0000000e+000 1.00e+000 0.00e+000  -1.0 0.00e+000    -  0.00e+000 0.00e+000   0\n",
      "   1 4.9567360e-002 2.78e-017 3.47e-018  -1.7 5.42e-001    -  1.00e+000 1.00e+000h  1\n",
      "\n",
      "Number of Iterations....: 1\n",
      "\n",
      "                                   (scaled)                 (unscaled)\n",
      "Objective...............:  4.9567359667359659e-002   4.9567359667359659e-002\n",
      "Dual infeasibility......:  3.4694469519536142e-018   3.4694469519536142e-018\n",
      "Constraint violation....:  2.7755575615628914e-017   2.7755575615628914e-017\n",
      "Complementarity.........:  0.0000000000000000e+000   0.0000000000000000e+000\n",
      "Overall NLP error.......:  2.7755575615628914e-017   2.7755575615628914e-017\n",
      "\n",
      "\n",
      "Number of objective function evaluations             = 2\n",
      "Number of objective gradient evaluations             = 2\n",
      "Number of equality constraint evaluations            = 2\n",
      "Number of inequality constraint evaluations          = 0\n",
      "Number of equality constraint Jacobian evaluations   = 2\n",
      "Number of inequality constraint Jacobian evaluations = 0\n",
      "Number of Lagrangian Hessian evaluations             = 1\n",
      "Total CPU secs in IPOPT (w/o function evaluations)   =      0.008\n",
      "Total CPU secs in NLP function evaluations           =      0.000\n",
      "\n",
      "EXIT: Optimal Solution Found.\n",
      "      solver  :   t_proc      (avg)   t_wall      (avg)    n_eval\n",
      "       nlp_f  |        0 (       0)        0 (       0)         2\n",
      "       nlp_g  |        0 (       0)        0 (       0)         2\n",
      "  nlp_grad_f  |        0 (       0)        0 (       0)         3\n",
      "  nlp_hess_l  |        0 (       0)        0 (       0)         1\n",
      "   nlp_jac_g  |        0 (       0)        0 (       0)         3\n",
      "       total  |   8.00ms (  8.00ms)   7.99ms (  7.99ms)         1\n",
      "[0.27505198 0.54158004 0.18336798]\n"
     ]
    }
   ],
   "source": [
    "minimize_f(0.05,0.15,0.3,0.1,0.3,0.8,0.1,0.2)\n",
    "minimize_f(0.05,0.15,0.3,0.1,0.3,0.8,0.1,0.15)"
   ]
  },
  {
   "cell_type": "markdown",
   "metadata": {},
   "source": [
    "Pour $r=0.1: x=[0.633,\\, 0.279,\\, 0.088]$\n",
    "\n",
    "Pour $r=0.2 :x=[-0.083,\\,  0.805,\\,   0.278]$\n",
    "\n",
    "Pour $r=0.15: x=[0.275,\\, 0.542,\\, 0.183]$\n",
    "\n",
    "On voit alors que la solution pour $r=0.15$ est la moyenne des solutions pour r=0.1 et r=0.2\n",
    "\n",
    "0.15 est justement la moyenne de 0.1 et 0.2\n",
    "\n",
    "On en déduit que connaitre les solution pour $r_1$ et $r_2$ suffit pour la déterminer à n'importe quel $r$:\n",
    "\n",
    "Si $r= (1-\\lambda)r_1 +\\lambda r_2$, alors $x_r =(1-\\lambda)x_{r_1} +\\lambda x_{r_2}$ (avec $\\lambda \\in \\mathbb{R}$\n",
    "\n",
    "Enfin, si $\\sigma_3 = 0$, alors la fonction $f$ ne dépend plus de $x_3$, donc on enlève un degré de liberté et investir dans un fond optimal suffirait à les déterminer tous."
   ]
  },
  {
   "cell_type": "markdown",
   "metadata": {},
   "source": [
    "### Question 9\n"
   ]
  },
  {
   "cell_type": "code",
   "execution_count": 87,
   "metadata": {},
   "outputs": [
    {
     "data": {
      "text/plain": [
       "3.5"
      ]
     },
     "execution_count": 87,
     "metadata": {},
     "output_type": "execute_result"
    }
   ],
   "source": [
    "sm=0.5\n",
    "a=np.array([1.,0.,-4.])\n",
    "b=np.maximum(-a,0)\n",
    "b[0]+b[1]+b[2]-0.5\n",
    "def g3(x):\n",
    "        y=np.maximum(-x,np.zeros(3))\n",
    "        return y[0]+y[1]+y[2]-sm\n",
    "g3(a)"
   ]
  },
  {
   "cell_type": "code",
   "execution_count": 88,
   "metadata": {},
   "outputs": [],
   "source": [
    "def minimize_f_short(p1,p2,p3,sigma1,sigma2,sigma3,rho,r,sm):\n",
    "\n",
    "    def f(x):\n",
    "        return (sigma1*x[0])**2 + (sigma2*x[1])**2 + (sigma3*x[2])**2 + 2*rho*s1*s2*x[1]*x[0]\n",
    "\n",
    "    def g1(x):\n",
    "        return x[0]+x[1]+x[2] - 1\n",
    "\n",
    "    def g2(x):\n",
    "        return p1*x[0] + p2*x[1] + p3*x[2] - r\n",
    "\n",
    "    #ajout de la nouvelle contrainte\n",
    "    def g3(x):\n",
    "        return x[3]+x[4]+x[5] - sm\n",
    "\n",
    "    opti = casadi.Opti()\n",
    "    x = opti.variable(6)\n",
    "    f = f(x)\n",
    "    opti.minimize(f)\n",
    "    opti.subject_to(g2(x) == 0)\n",
    "    opti.subject_to(g1(x) == 0)\n",
    "    opti.subject_to(g3(x)<=0)\n",
    "    opti.subject_to(x[3] + x[0] >= 0)\n",
    "    opti.subject_to(x[4] + x[1] >= 0)\n",
    "    opti.subject_to(x[5] + x[2] >= 0)\n",
    "    opti.subject_to(x[3] >= 0)\n",
    "    opti.subject_to(x[4] >= 0)\n",
    "    opti.subject_to(x[5] >= 0)\n",
    "\n",
    "    x0 = np.array([0.,0.,0.,0.,0.,0.])\n",
    "    opti.set_initial(x,x0)\n",
    "    opti.solver('ipopt')\n",
    "    sol = opti.solve()\n",
    "    print(sol.value(x))"
   ]
  },
  {
   "cell_type": "code",
   "execution_count": 91,
   "metadata": {},
   "outputs": [
    {
     "name": "stdout",
     "output_type": "stream",
     "text": [
      "This is Ipopt version 3.12.3, running with linear solver mumps.\n",
      "NOTE: Other linear solvers might be more efficient (see Ipopt documentation).\n",
      "\n",
      "Number of nonzeros in equality constraint Jacobian...:        6\n",
      "Number of nonzeros in inequality constraint Jacobian.:       12\n",
      "Number of nonzeros in Lagrangian Hessian.............:        4\n",
      "\n",
      "Total number of variables............................:        6\n",
      "                     variables with only lower bounds:        0\n",
      "                variables with lower and upper bounds:        0\n",
      "                     variables with only upper bounds:        0\n",
      "Total number of equality constraints.................:        2\n",
      "Total number of inequality constraints...............:        7\n",
      "        inequality constraints with only lower bounds:        6\n",
      "   inequality constraints with lower and upper bounds:        0\n",
      "        inequality constraints with only upper bounds:        1\n",
      "\n",
      "iter    objective    inf_pr   inf_du lg(mu)  ||d||  lg(rg) alpha_du alpha_pr  ls\n",
      "   0 0.0000000e+000 1.00e+000 5.00e-001  -1.0 0.00e+000    -  0.00e+000 0.00e+000   0\n",
      "   1 2.7171024e-004 9.84e-001 4.91e-001  -1.7 1.31e+000    -  1.48e-002 1.57e-002h  1\n",
      "   2 4.6773256e-002 8.12e-001 1.46e+000  -1.7 1.44e+000    -  5.39e-002 1.75e-001h  1\n",
      "   3 1.2525294e+000 5.55e-017 7.83e-001  -1.7 1.14e+000    -  4.63e-001 1.00e+000h  1\n",
      "   4 1.2184234e+000 0.00e+000 9.47e-002  -1.7 5.19e-002    -  8.14e-001 1.00e+000f  1\n",
      "   5 1.1489231e+000 0.00e+000 2.83e-008  -2.5 1.03e-001    -  1.00e+000 1.00e+000f  1\n",
      "   6 1.1431335e+000 0.00e+000 9.11e-004  -3.8 8.87e-003    -  9.86e-001 1.00e+000f  1\n",
      "   7 1.1422859e+000 2.22e-016 1.84e-011  -5.7 1.30e-003    -  1.00e+000 1.00e+000f  1\n",
      "   8 1.1422777e+000 1.11e-016 2.51e-014  -8.6 1.25e-005    -  1.00e+000 1.00e+000f  1\n",
      "\n",
      "Number of Iterations....: 8\n",
      "\n",
      "                                   (scaled)                 (unscaled)\n",
      "Objective...............:  1.1422777446372725e+000   1.1422777446372725e+000\n",
      "Dual infeasibility......:  2.5091040356528538e-014   2.5091040356528538e-014\n",
      "Constraint violation....:  1.1102230246251565e-016   1.1102230246251565e-016\n",
      "Complementarity.........:  2.5601885375420172e-009   2.5601885375420172e-009\n",
      "Overall NLP error.......:  2.5601885375420172e-009   2.5601885375420172e-009\n",
      "\n",
      "\n",
      "Number of objective function evaluations             = 9\n",
      "Number of objective gradient evaluations             = 9\n",
      "Number of equality constraint evaluations            = 9\n",
      "Number of inequality constraint evaluations          = 9\n",
      "Number of equality constraint Jacobian evaluations   = 9\n",
      "Number of inequality constraint Jacobian evaluations = 9\n",
      "Number of Lagrangian Hessian evaluations             = 8\n",
      "Total CPU secs in IPOPT (w/o function evaluations)   =      0.018\n",
      "Total CPU secs in NLP function evaluations           =      0.001\n",
      "\n",
      "EXIT: Optimal Solution Found.\n",
      "      solver  :   t_proc      (avg)   t_wall      (avg)    n_eval\n",
      "       nlp_f  |        0 (       0)        0 (       0)         9\n",
      "       nlp_g  |        0 (       0)  30.00us (  3.33us)         9\n",
      "  nlp_grad_f  |        0 (       0)        0 (       0)        10\n",
      "  nlp_hess_l  |        0 (       0)        0 (       0)         8\n",
      "   nlp_jac_g  |        0 (       0)        0 (       0)        10\n",
      "       total  |  19.00ms ( 19.00ms)  18.78ms ( 18.78ms)         1\n",
      "[-5.00000031e-01  1.66666718e-01  1.33333331e+00  5.00000023e-01\n",
      " -7.65667067e-09 -7.63985345e-09]\n",
      "This is Ipopt version 3.12.3, running with linear solver mumps.\n",
      "NOTE: Other linear solvers might be more efficient (see Ipopt documentation).\n",
      "\n",
      "Number of nonzeros in equality constraint Jacobian...:        6\n",
      "Number of nonzeros in inequality constraint Jacobian.:        0\n",
      "Number of nonzeros in Lagrangian Hessian.............:        4\n",
      "\n",
      "Total number of variables............................:        3\n",
      "                     variables with only lower bounds:        0\n",
      "                variables with lower and upper bounds:        0\n",
      "                     variables with only upper bounds:        0\n",
      "Total number of equality constraints.................:        2\n",
      "Total number of inequality constraints...............:        0\n",
      "        inequality constraints with only lower bounds:        0\n",
      "   inequality constraints with lower and upper bounds:        0\n",
      "        inequality constraints with only upper bounds:        0\n",
      "\n",
      "iter    objective    inf_pr   inf_du lg(mu)  ||d||  lg(rg) alpha_du alpha_pr  ls\n",
      "   0 0.0000000e+000 1.00e+000 0.00e+000  -1.0 0.00e+000    -  0.00e+000 0.00e+000   0\n",
      "   1 5.9284075e-001 0.00e+000 1.11e-016  -1.7 1.86e+000    -  1.00e+000 1.00e+000h  1\n",
      "\n",
      "Number of Iterations....: 1\n",
      "\n",
      "                                   (scaled)                 (unscaled)\n",
      "Objective...............:  5.9284074844074852e-001   5.9284074844074852e-001\n",
      "Dual infeasibility......:  1.1102230246251565e-016   1.1102230246251565e-016\n",
      "Constraint violation....:  0.0000000000000000e+000   0.0000000000000000e+000\n",
      "Complementarity.........:  0.0000000000000000e+000   0.0000000000000000e+000\n",
      "Overall NLP error.......:  1.1102230246251565e-016   1.1102230246251565e-016\n",
      "\n",
      "\n",
      "Number of objective function evaluations             = 2\n",
      "Number of objective gradient evaluations             = 2\n",
      "Number of equality constraint evaluations            = 2\n",
      "Number of inequality constraint evaluations          = 0\n",
      "Number of equality constraint Jacobian evaluations   = 2\n",
      "Number of inequality constraint Jacobian evaluations = 0\n",
      "Number of Lagrangian Hessian evaluations             = 1\n",
      "Total CPU secs in IPOPT (w/o function evaluations)   =      0.008\n",
      "Total CPU secs in NLP function evaluations           =      0.000\n",
      "\n",
      "EXIT: Optimal Solution Found.\n",
      "      solver  :   t_proc      (avg)   t_wall      (avg)    n_eval\n",
      "       nlp_f  |        0 (       0)        0 (       0)         2\n",
      "       nlp_g  |        0 (       0)        0 (       0)         2\n",
      "  nlp_grad_f  |        0 (       0)        0 (       0)         3\n",
      "  nlp_hess_l  |        0 (       0)        0 (       0)         1\n",
      "   nlp_jac_g  |        0 (       0)        0 (       0)         3\n",
      "       total  |   8.00ms (  8.00ms)   8.00ms (  8.00ms)         1\n",
      "[-1.51392931  1.85654886  0.65738046]\n"
     ]
    }
   ],
   "source": [
    "minimize_f_short(0.05,0.15,0.3,0.1,0.3,0.8,0.1,0.4,0.5)\n",
    "minimize_f(0.05,0.15,0.3,0.1,0.3,0.8,0.1,0.4)"
   ]
  },
  {
   "cell_type": "markdown",
   "metadata": {},
   "source": [
    "Donc avec la contrainte des positions courtes:\n",
    "    $x = [-0.5000 ,\\, 0.1667,\\, 1.333] \\newline s=[5.000^{-1},\\, -7.659*10^{-9},\\, -7.649*10^{-9}]\\approx [5.000^{-1},\\, 0,\\, 0]$\n",
    "    \n",
    "Sans cette contrainte:\n",
    "$x=[-1.514,\\,  1.857,\\,  0.657]$"
   ]
  },
  {
   "cell_type": "markdown",
   "metadata": {},
   "source": [
    "On voit bien que la limitation des positions courtes empêche comme prévu les investissements trop loin dans le négatif"
   ]
  },
  {
   "cell_type": "markdown",
   "metadata": {},
   "source": [
    "### Question 10"
   ]
  }
 ],
 "metadata": {
  "kernelspec": {
   "display_name": "Python 3",
   "language": "python",
   "name": "python3"
  },
  "language_info": {
   "codemirror_mode": {
    "name": "ipython",
    "version": 3
   },
   "file_extension": ".py",
   "mimetype": "text/x-python",
   "name": "python",
   "nbconvert_exporter": "python",
   "pygments_lexer": "ipython3",
   "version": "3.8.3"
  }
 },
 "nbformat": 4,
 "nbformat_minor": 2
}
